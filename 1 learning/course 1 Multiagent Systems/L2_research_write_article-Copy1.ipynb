{
 "cells": [
  {
   "cell_type": "markdown",
   "metadata": {},
   "source": [
    "You can download the `requirements.txt` for this course from the workspace of this lab. `File --> Open...`"
   ]
  },
  {
   "cell_type": "markdown",
   "metadata": {},
   "source": [
    "# L2: Create Agents to Research and Write an Article\n",
    "\n",
    "In this lesson, you will be introduced to the foundational concepts of multi-agent systems and get an overview of the crewAI framework."
   ]
  },
  {
   "cell_type": "code",
   "execution_count": 1,
   "metadata": {},
   "outputs": [
    {
     "name": "stdout",
     "output_type": "stream",
     "text": [
      "Defaulting to user installation because normal site-packages is not writeable\n",
      "\u001b[31mERROR: Ignored the following versions that require a different python version: 0.10.0 Requires-Python >=3.10,<4.0; 0.11.0 Requires-Python >=3.10,<4.0; 0.11.1 Requires-Python >=3.10,<4.0; 0.11.2 Requires-Python >=3.10,<4.0; 0.14.0 Requires-Python >=3.10,<=3.13; 0.14.0rc0 Requires-Python >=3.10,<3.12; 0.14.0rc1 Requires-Python >=3.10,<=3.13; 0.14.1 Requires-Python >=3.10,<=3.13; 0.14.3 Requires-Python >=3.10,<=3.13; 0.14.4 Requires-Python >=3.10,<=3.13; 0.16.0 Requires-Python >=3.10,<=3.13; 0.16.1 Requires-Python >=3.10,<=3.13; 0.16.2 Requires-Python >=3.10,<=3.13; 0.16.3 Requires-Python >=3.10,<=3.13; 0.17.0 Requires-Python >=3.10,<=3.13; 0.17.0rc0 Requires-Python >=3.10,<=3.13; 0.17.0rc1 Requires-Python >=3.10,<=3.13; 0.17.0rc2 Requires-Python >=3.10,<=3.13; 0.19.0 Requires-Python >=3.10,<=3.13; 0.22.0 Requires-Python >=3.10,<=3.13; 0.22.2 Requires-Python >=3.10,<=3.13; 0.22.3 Requires-Python >=3.10,<=3.13; 0.22.4 Requires-Python >=3.10,<=3.13; 0.22.5 Requires-Python >=3.10,<=3.13; 0.27.0 Requires-Python <=3.13,>=3.10; 0.27.0rc0 Requires-Python <=3.13,>=3.10; 0.27.0rc1 Requires-Python <=3.13,>=3.10; 0.27.0rc2 Requires-Python <=3.13,>=3.10; 0.27.0rc3 Requires-Python <=3.13,>=3.10; 0.27.1 Requires-Python <=3.13,>=3.10; 0.27.2 Requires-Python <=3.13,>=3.10; 0.28.0 Requires-Python <=3.13,>=3.10; 0.28.1 Requires-Python <=3.13,>=3.10; 0.28.2 Requires-Python <=3.13,>=3.10; 0.28.3 Requires-Python <=3.13,>=3.10; 0.28.4 Requires-Python <=3.13,>=3.10; 0.28.5 Requires-Python <=3.13,>=3.10; 0.28.6 Requires-Python <=3.13,>=3.10; 0.28.7 Requires-Python <=3.13,>=3.10; 0.28.8 Requires-Python <=3.13,>=3.10; 0.28.9rc1 Requires-Python <=3.13,>=3.10; 0.28.9rc2 Requires-Python <=3.13,>=3.10; 0.30.0 Requires-Python <=3.13,>=3.10; 0.30.0rc1 Requires-Python <=3.13,>=3.10; 0.30.0rc2 Requires-Python <=3.13,>=3.10; 0.30.0rc3 Requires-Python <=3.13,>=3.10; 0.30.0rc4 Requires-Python <=3.13,>=3.10; 0.30.0rc5 Requires-Python <=3.13,>=3.10; 0.30.0rc6 Requires-Python <=3.13,>=3.10; 0.30.0rc7 Requires-Python <=3.13,>=3.10; 0.30.10 Requires-Python <=3.13,>=3.10; 0.30.11 Requires-Python <=3.13,>=3.10; 0.30.4 Requires-Python <=3.13,>=3.10; 0.30.5 Requires-Python <=3.13,>=3.10; 0.30.8 Requires-Python <=3.13,>=3.10; 0.32.0 Requires-Python <=3.13,>=3.10; 0.32.1 Requires-Python <=3.13,>=3.10; 0.32.2 Requires-Python <=3.13,>=3.10; 0.35.0 Requires-Python <=3.13,>=3.10; 0.35.3 Requires-Python <=3.13,>=3.10; 0.35.4 Requires-Python <=3.13,>=3.10; 0.35.5 Requires-Python <=3.13,>=3.10; 0.35.6 Requires-Python <=3.13,>=3.10; 0.35.7 Requires-Python <=3.13,>=3.10; 0.35.8 Requires-Python <=3.13,>=3.10; 0.36.0 Requires-Python <=3.13,>=3.10; 0.36.1 Requires-Python <=3.13,>=3.10; 0.41.0 Requires-Python <=3.13,>=3.10; 0.41.1 Requires-Python <=3.13,>=3.10; 0.5.2 Requires-Python >=3.10,<4.0; 0.5.3 Requires-Python >=3.10,<4.0; 0.5.5 Requires-Python >=3.10,<4.0; 0.51.0 Requires-Python <=3.13,>=3.10; 0.51.1 Requires-Python <=3.13,>=3.10; 0.55.0 Requires-Python <=3.13,>=3.10; 0.55.1 Requires-Python <=3.13,>=3.10; 0.55.2 Requires-Python <=3.13,>=3.10; 0.60.0 Requires-Python <=3.13,>=3.10; 0.61.0 Requires-Python <=3.13,>=3.10; 0.63.0 Requires-Python <=3.13,>=3.10; 0.63.1 Requires-Python <=3.13,>=3.10; 0.63.2 Requires-Python <=3.13,>=3.10; 0.63.5 Requires-Python <=3.13,>=3.10; 0.63.6 Requires-Python <=3.13,>=3.10; 0.64.0 Requires-Python <=3.13,>=3.10; 0.65.0 Requires-Python <=3.13,>=3.10; 0.65.1 Requires-Python <=3.13,>=3.10; 0.65.2 Requires-Python <=3.13,>=3.10; 0.66.0 Requires-Python <=3.13,>=3.10; 0.67.0 Requires-Python <=3.13,>=3.10; 0.67.1 Requires-Python <=3.13,>=3.10; 0.70.0 Requires-Python <=3.13,>=3.10; 0.70.1 Requires-Python <=3.13,>=3.10; 0.74.0 Requires-Python <=3.13,>=3.10; 0.74.1 Requires-Python <=3.13,>=3.10; 0.74.2 Requires-Python <=3.13,>=3.10; 0.75.0 Requires-Python <=3.13,>=3.10\u001b[0m\u001b[31m\n",
      "\u001b[0m\u001b[31mERROR: Could not find a version that satisfies the requirement crewai==0.28.8 (from versions: 0.1.0, 0.1.1, 0.1.2, 0.1.3, 0.1.5, 0.1.6, 0.1.7, 0.1.14, 0.1.15, 0.1.16, 0.1.17, 0.1.23, 0.1.24, 0.1.32, 0.5.0)\u001b[0m\u001b[31m\n",
      "\u001b[0m\u001b[31mERROR: No matching distribution found for crewai==0.28.8\u001b[0m\u001b[31m\n",
      "\u001b[0m\n",
      "\u001b[1m[\u001b[0m\u001b[34;49mnotice\u001b[0m\u001b[1;39;49m]\u001b[0m\u001b[39;49m A new release of pip is available: \u001b[0m\u001b[31;49m24.1.2\u001b[0m\u001b[39;49m -> \u001b[0m\u001b[32;49m24.2\u001b[0m\n",
      "\u001b[1m[\u001b[0m\u001b[34;49mnotice\u001b[0m\u001b[1;39;49m]\u001b[0m\u001b[39;49m To update, run: \u001b[0m\u001b[32;49m/Library/Developer/CommandLineTools/usr/bin/python3 -m pip install --upgrade pip\u001b[0m\n"
     ]
    }
   ],
   "source": [
    "#The libraries are already installed in the classroom. If you're running this notebook on your own machine, you can install the following:\n",
    "\n",
    "!pip install crewai==0.28.8 crewai_tools==0.1.6 langchain_community==0.0.29"
   ]
  },
  {
   "cell_type": "code",
   "execution_count": 2,
   "metadata": {
    "height": 64
   },
   "outputs": [],
   "source": [
    "# Warning control\n",
    "import warnings\n",
    "warnings.filterwarnings('ignore')"
   ]
  },
  {
   "cell_type": "markdown",
   "metadata": {},
   "source": [
    "- Import from the crewAI libray."
   ]
  },
  {
   "cell_type": "code",
   "execution_count": 8,
   "metadata": {
    "height": 30
   },
   "outputs": [
    {
     "ename": "TypeError",
     "evalue": "unsupported operand type(s) for |: 'type' and 'NoneType'",
     "output_type": "error",
     "traceback": [
      "\u001b[0;31m---------------------------------------------------------------------------\u001b[0m",
      "\u001b[0;31mTypeError\u001b[0m                                 Traceback (most recent call last)",
      "Cell \u001b[0;32mIn[8], line 1\u001b[0m\n\u001b[0;32m----> 1\u001b[0m \u001b[38;5;28;01mfrom\u001b[39;00m \u001b[38;5;21;01mcrewai\u001b[39;00m \u001b[38;5;28;01mimport\u001b[39;00m Agent, Task, Crew\n",
      "File \u001b[0;32m~/Library/Python/3.9/lib/python/site-packages/crewai/__init__.py:1\u001b[0m\n\u001b[0;32m----> 1\u001b[0m \u001b[38;5;28;01mfrom\u001b[39;00m \u001b[38;5;21;01mcrewai\u001b[39;00m\u001b[38;5;21;01m.\u001b[39;00m\u001b[38;5;21;01magent\u001b[39;00m \u001b[38;5;28;01mimport\u001b[39;00m Agent\n\u001b[1;32m      2\u001b[0m \u001b[38;5;28;01mfrom\u001b[39;00m \u001b[38;5;21;01mcrewai\u001b[39;00m\u001b[38;5;21;01m.\u001b[39;00m\u001b[38;5;21;01mcrew\u001b[39;00m \u001b[38;5;28;01mimport\u001b[39;00m Crew\n\u001b[1;32m      3\u001b[0m \u001b[38;5;28;01mfrom\u001b[39;00m \u001b[38;5;21;01mcrewai\u001b[39;00m\u001b[38;5;21;01m.\u001b[39;00m\u001b[38;5;21;01mprocess\u001b[39;00m \u001b[38;5;28;01mimport\u001b[39;00m Process\n",
      "File \u001b[0;32m~/Library/Python/3.9/lib/python/site-packages/crewai/agent.py:22\u001b[0m\n\u001b[1;32m     10\u001b[0m \u001b[38;5;28;01mfrom\u001b[39;00m \u001b[38;5;21;01mpydantic\u001b[39;00m \u001b[38;5;28;01mimport\u001b[39;00m (\n\u001b[1;32m     11\u001b[0m     UUID4,\n\u001b[1;32m     12\u001b[0m     BaseModel,\n\u001b[0;32m   (...)\u001b[0m\n\u001b[1;32m     18\u001b[0m     model_validator,\n\u001b[1;32m     19\u001b[0m )\n\u001b[1;32m     20\u001b[0m \u001b[38;5;28;01mfrom\u001b[39;00m \u001b[38;5;21;01mpydantic_core\u001b[39;00m \u001b[38;5;28;01mimport\u001b[39;00m PydanticCustomError\n\u001b[0;32m---> 22\u001b[0m \u001b[38;5;28;01mfrom\u001b[39;00m \u001b[38;5;21;01mcrewai\u001b[39;00m\u001b[38;5;21;01m.\u001b[39;00m\u001b[38;5;21;01magents\u001b[39;00m \u001b[38;5;28;01mimport\u001b[39;00m (\n\u001b[1;32m     23\u001b[0m     CacheHandler,\n\u001b[1;32m     24\u001b[0m     CrewAgentExecutor,\n\u001b[1;32m     25\u001b[0m     CrewAgentOutputParser,\n\u001b[1;32m     26\u001b[0m     ToolsHandler,\n\u001b[1;32m     27\u001b[0m )\n\u001b[1;32m     28\u001b[0m \u001b[38;5;28;01mfrom\u001b[39;00m \u001b[38;5;21;01mcrewai\u001b[39;00m\u001b[38;5;21;01m.\u001b[39;00m\u001b[38;5;21;01mutilities\u001b[39;00m \u001b[38;5;28;01mimport\u001b[39;00m I18N, Logger, Prompts, RPMController\n\u001b[1;32m     31\u001b[0m \u001b[38;5;28;01mclass\u001b[39;00m \u001b[38;5;21;01mAgent\u001b[39;00m(BaseModel):\n",
      "File \u001b[0;32m~/Library/Python/3.9/lib/python/site-packages/crewai/agents/__init__.py:2\u001b[0m\n\u001b[1;32m      1\u001b[0m \u001b[38;5;28;01mfrom\u001b[39;00m \u001b[38;5;21;01m.\u001b[39;00m\u001b[38;5;21;01mcache\u001b[39;00m\u001b[38;5;21;01m.\u001b[39;00m\u001b[38;5;21;01mcache_handler\u001b[39;00m \u001b[38;5;28;01mimport\u001b[39;00m CacheHandler\n\u001b[0;32m----> 2\u001b[0m \u001b[38;5;28;01mfrom\u001b[39;00m \u001b[38;5;21;01m.\u001b[39;00m\u001b[38;5;21;01mexecutor\u001b[39;00m \u001b[38;5;28;01mimport\u001b[39;00m CrewAgentExecutor\n\u001b[1;32m      3\u001b[0m \u001b[38;5;28;01mfrom\u001b[39;00m \u001b[38;5;21;01m.\u001b[39;00m\u001b[38;5;21;01moutput_parser\u001b[39;00m \u001b[38;5;28;01mimport\u001b[39;00m CrewAgentOutputParser\n\u001b[1;32m      4\u001b[0m \u001b[38;5;28;01mfrom\u001b[39;00m \u001b[38;5;21;01m.\u001b[39;00m\u001b[38;5;21;01mtools_handler\u001b[39;00m \u001b[38;5;28;01mimport\u001b[39;00m ToolsHandler\n",
      "File \u001b[0;32m~/Library/Python/3.9/lib/python/site-packages/crewai/agents/executor.py:16\u001b[0m\n\u001b[1;32m     14\u001b[0m \u001b[38;5;28;01mfrom\u001b[39;00m \u001b[38;5;21;01mcrewai\u001b[39;00m\u001b[38;5;21;01m.\u001b[39;00m\u001b[38;5;21;01magents\u001b[39;00m\u001b[38;5;21;01m.\u001b[39;00m\u001b[38;5;21;01mcache\u001b[39;00m\u001b[38;5;21;01m.\u001b[39;00m\u001b[38;5;21;01mcache_hit\u001b[39;00m \u001b[38;5;28;01mimport\u001b[39;00m CacheHit\n\u001b[1;32m     15\u001b[0m \u001b[38;5;28;01mfrom\u001b[39;00m \u001b[38;5;21;01mcrewai\u001b[39;00m\u001b[38;5;21;01m.\u001b[39;00m\u001b[38;5;21;01mtools\u001b[39;00m\u001b[38;5;21;01m.\u001b[39;00m\u001b[38;5;21;01mcache_tools\u001b[39;00m \u001b[38;5;28;01mimport\u001b[39;00m CacheTools\n\u001b[0;32m---> 16\u001b[0m \u001b[38;5;28;01mfrom\u001b[39;00m \u001b[38;5;21;01mcrewai\u001b[39;00m\u001b[38;5;21;01m.\u001b[39;00m\u001b[38;5;21;01mutilities\u001b[39;00m \u001b[38;5;28;01mimport\u001b[39;00m I18N\n\u001b[1;32m     19\u001b[0m \u001b[38;5;28;01mclass\u001b[39;00m \u001b[38;5;21;01mCrewAgentExecutor\u001b[39;00m(AgentExecutor):\n\u001b[1;32m     20\u001b[0m     i18n: I18N \u001b[38;5;241m=\u001b[39m I18N()\n",
      "File \u001b[0;32m~/Library/Python/3.9/lib/python/site-packages/crewai/utilities/__init__.py:4\u001b[0m\n\u001b[1;32m      2\u001b[0m \u001b[38;5;28;01mfrom\u001b[39;00m \u001b[38;5;21;01m.\u001b[39;00m\u001b[38;5;21;01mlogger\u001b[39;00m \u001b[38;5;28;01mimport\u001b[39;00m Logger\n\u001b[1;32m      3\u001b[0m \u001b[38;5;28;01mfrom\u001b[39;00m \u001b[38;5;21;01m.\u001b[39;00m\u001b[38;5;21;01mprompts\u001b[39;00m \u001b[38;5;28;01mimport\u001b[39;00m Prompts\n\u001b[0;32m----> 4\u001b[0m \u001b[38;5;28;01mfrom\u001b[39;00m \u001b[38;5;21;01m.\u001b[39;00m\u001b[38;5;21;01mrpm_controller\u001b[39;00m \u001b[38;5;28;01mimport\u001b[39;00m RPMController\n",
      "File \u001b[0;32m~/Library/Python/3.9/lib/python/site-packages/crewai/utilities/rpm_controller.py:10\u001b[0m\n\u001b[1;32m      5\u001b[0m \u001b[38;5;28;01mfrom\u001b[39;00m \u001b[38;5;21;01mpydantic\u001b[39;00m \u001b[38;5;28;01mimport\u001b[39;00m BaseModel, ConfigDict, Field, PrivateAttr, model_validator\n\u001b[1;32m      7\u001b[0m \u001b[38;5;28;01mfrom\u001b[39;00m \u001b[38;5;21;01mcrewai\u001b[39;00m\u001b[38;5;21;01m.\u001b[39;00m\u001b[38;5;21;01mutilities\u001b[39;00m\u001b[38;5;21;01m.\u001b[39;00m\u001b[38;5;21;01mlogger\u001b[39;00m \u001b[38;5;28;01mimport\u001b[39;00m Logger\n\u001b[0;32m---> 10\u001b[0m \u001b[38;5;28;01mclass\u001b[39;00m \u001b[38;5;21;01mRPMController\u001b[39;00m(BaseModel):\n\u001b[1;32m     11\u001b[0m     model_config \u001b[38;5;241m=\u001b[39m ConfigDict(arbitrary_types_allowed\u001b[38;5;241m=\u001b[39m\u001b[38;5;28;01mTrue\u001b[39;00m)\n\u001b[1;32m     12\u001b[0m     max_rpm: Union[\u001b[38;5;28mint\u001b[39m, \u001b[38;5;28;01mNone\u001b[39;00m] \u001b[38;5;241m=\u001b[39m Field(default\u001b[38;5;241m=\u001b[39m\u001b[38;5;28;01mNone\u001b[39;00m)\n",
      "File \u001b[0;32m~/Library/Python/3.9/lib/python/site-packages/crewai/utilities/rpm_controller.py:15\u001b[0m, in \u001b[0;36mRPMController\u001b[0;34m()\u001b[0m\n\u001b[1;32m     13\u001b[0m logger: Logger \u001b[38;5;241m=\u001b[39m Field(default\u001b[38;5;241m=\u001b[39m\u001b[38;5;28;01mNone\u001b[39;00m)\n\u001b[1;32m     14\u001b[0m _current_rpm: \u001b[38;5;28mint\u001b[39m \u001b[38;5;241m=\u001b[39m PrivateAttr(default\u001b[38;5;241m=\u001b[39m\u001b[38;5;241m0\u001b[39m)\n\u001b[0;32m---> 15\u001b[0m _timer: \u001b[43mthreading\u001b[49m\u001b[38;5;241;43m.\u001b[39;49m\u001b[43mTimer\u001b[49m\u001b[43m \u001b[49m\u001b[38;5;241;43m|\u001b[39;49m\u001b[43m \u001b[49m\u001b[38;5;28;43;01mNone\u001b[39;49;00m \u001b[38;5;241m=\u001b[39m PrivateAttr(default\u001b[38;5;241m=\u001b[39m\u001b[38;5;28;01mNone\u001b[39;00m)\n\u001b[1;32m     16\u001b[0m _lock: threading\u001b[38;5;241m.\u001b[39mLock \u001b[38;5;241m=\u001b[39m PrivateAttr(default\u001b[38;5;241m=\u001b[39m\u001b[38;5;28;01mNone\u001b[39;00m)\n\u001b[1;32m     18\u001b[0m \u001b[38;5;129m@model_validator\u001b[39m(mode\u001b[38;5;241m=\u001b[39m\u001b[38;5;124m\"\u001b[39m\u001b[38;5;124mafter\u001b[39m\u001b[38;5;124m\"\u001b[39m)\n\u001b[1;32m     19\u001b[0m \u001b[38;5;28;01mdef\u001b[39;00m \u001b[38;5;21mreset_counter\u001b[39m(\u001b[38;5;28mself\u001b[39m):\n",
      "\u001b[0;31mTypeError\u001b[0m: unsupported operand type(s) for |: 'type' and 'NoneType'"
     ]
    }
   ],
   "source": [
    "from crewai import Agent, Task, Crew"
   ]
  },
  {
   "cell_type": "markdown",
   "metadata": {},
   "source": [
    "- As a LLM for your agents, you'll be using OpenAI's `gpt-3.5-turbo`.\n",
    "\n",
    "**Optional Note:** crewAI also allow other popular models to be used as a LLM for your Agents. You can see some of the examples at the [bottom of the notebook](#1)."
   ]
  },
  {
   "cell_type": "code",
   "execution_count": 4,
   "metadata": {
    "height": 98
   },
   "outputs": [
    {
     "ename": "ModuleNotFoundError",
     "evalue": "No module named 'utils'",
     "output_type": "error",
     "traceback": [
      "\u001b[0;31m---------------------------------------------------------------------------\u001b[0m",
      "\u001b[0;31mModuleNotFoundError\u001b[0m                       Traceback (most recent call last)",
      "Cell \u001b[0;32mIn[4], line 2\u001b[0m\n\u001b[1;32m      1\u001b[0m \u001b[38;5;28;01mimport\u001b[39;00m \u001b[38;5;21;01mos\u001b[39;00m\n\u001b[0;32m----> 2\u001b[0m \u001b[38;5;28;01mfrom\u001b[39;00m \u001b[38;5;21;01mutils\u001b[39;00m \u001b[38;5;28;01mimport\u001b[39;00m get_openai_api_key\n\u001b[1;32m      4\u001b[0m openai_api_key \u001b[38;5;241m=\u001b[39m get_openai_api_key()\n\u001b[1;32m      5\u001b[0m os\u001b[38;5;241m.\u001b[39menviron[\u001b[38;5;124m\"\u001b[39m\u001b[38;5;124mOPENAI_MODEL_NAME\u001b[39m\u001b[38;5;124m\"\u001b[39m] \u001b[38;5;241m=\u001b[39m \u001b[38;5;124m'\u001b[39m\u001b[38;5;124mgpt-3.5-turbo\u001b[39m\u001b[38;5;124m'\u001b[39m\n",
      "\u001b[0;31mModuleNotFoundError\u001b[0m: No module named 'utils'"
     ]
    }
   ],
   "source": [
    "import os\n",
    "from utils import get_openai_api_key\n",
    "\n",
    "openai_api_key = get_openai_api_key()\n",
    "os.environ[\"OPENAI_MODEL_NAME\"] = 'gpt-3.5-turbo'"
   ]
  },
  {
   "cell_type": "markdown",
   "metadata": {},
   "source": [
    "## Creating Agents\n",
    "\n",
    "- Define your Agents, and provide them a `role`, `goal` and `backstory`.\n",
    "- It has been seen that LLMs perform better when they are role playing."
   ]
  },
  {
   "cell_type": "markdown",
   "metadata": {},
   "source": [
    "### Agent: Planner\n",
    "\n",
    "**Note**: The benefit of using _multiple strings_ :\n",
    "```Python\n",
    "varname = \"line 1 of text\"\n",
    "          \"line 2 of text\"\n",
    "```\n",
    "\n",
    "versus the _triple quote docstring_:\n",
    "```Python\n",
    "varname = \"\"\"line 1 of text\n",
    "             line 2 of text\n",
    "          \"\"\"\n",
    "```\n",
    "is that it can avoid adding those whitespaces and newline characters, making it better formatted to be passed to the LLM."
   ]
  },
  {
   "cell_type": "code",
   "execution_count": 4,
   "metadata": {
    "height": 234
   },
   "outputs": [],
   "source": [
    "planner = Agent(\n",
    "    role=\"Content Planner\",\n",
    "    goal=\"Plan engaging and factually accurate content on {topic}\",\n",
    "    backstory=\"You're working on planning a blog article \"\n",
    "              \"about the topic: {topic}.\"\n",
    "              \"You collect information that helps the \"\n",
    "              \"audience learn something \"\n",
    "              \"and make informed decisions. \"\n",
    "              \"Your work is the basis for \"\n",
    "              \"the Content Writer to write an article on this topic.\",\n",
    "    allow_delegation=False,\n",
    "\tverbose=True\n",
    ")"
   ]
  },
  {
   "cell_type": "markdown",
   "metadata": {},
   "source": [
    "### Agent: Writer"
   ]
  },
  {
   "cell_type": "code",
   "execution_count": 5,
   "metadata": {
    "height": 370
   },
   "outputs": [],
   "source": [
    "writer = Agent(\n",
    "    role=\"Content Writer\",\n",
    "    goal=\"Write insightful and factually accurate \"\n",
    "         \"opinion piece about the topic: {topic}\",\n",
    "    backstory=\"You're working on a writing \"\n",
    "              \"a new opinion piece about the topic: {topic}. \"\n",
    "              \"You base your writing on the work of \"\n",
    "              \"the Content Planner, who provides an outline \"\n",
    "              \"and relevant context about the topic. \"\n",
    "              \"You follow the main objectives and \"\n",
    "              \"direction of the outline, \"\n",
    "              \"as provide by the Content Planner. \"\n",
    "              \"You also provide objective and impartial insights \"\n",
    "              \"and back them up with information \"\n",
    "              \"provide by the Content Planner. \"\n",
    "              \"You acknowledge in your opinion piece \"\n",
    "              \"when your statements are opinions \"\n",
    "              \"as opposed to objective statements.\",\n",
    "    allow_delegation=False,\n",
    "    verbose=True\n",
    ")"
   ]
  },
  {
   "cell_type": "markdown",
   "metadata": {},
   "source": [
    "### Agent: Editor"
   ]
  },
  {
   "cell_type": "code",
   "execution_count": 6,
   "metadata": {
    "height": 268
   },
   "outputs": [],
   "source": [
    "editor = Agent(\n",
    "    role=\"Editor\",\n",
    "    goal=\"Edit a given blog post to align with \"\n",
    "         \"the writing style of the organization. \",\n",
    "    backstory=\"You are an editor who receives a blog post \"\n",
    "              \"from the Content Writer. \"\n",
    "              \"Your goal is to review the blog post \"\n",
    "              \"to ensure that it follows journalistic best practices,\"\n",
    "              \"provides balanced viewpoints \"\n",
    "              \"when providing opinions or assertions, \"\n",
    "              \"and also avoids major controversial topics \"\n",
    "              \"or opinions when possible.\",\n",
    "    allow_delegation=False,\n",
    "    verbose=True\n",
    ")"
   ]
  },
  {
   "cell_type": "markdown",
   "metadata": {},
   "source": [
    "## Creating Tasks\n",
    "\n",
    "- Define your Tasks, and provide them a `description`, `expected_output` and `agent`."
   ]
  },
  {
   "cell_type": "markdown",
   "metadata": {},
   "source": [
    "### Task: Plan"
   ]
  },
  {
   "cell_type": "code",
   "execution_count": 7,
   "metadata": {
    "height": 268
   },
   "outputs": [],
   "source": [
    "plan = Task(\n",
    "    description=(\n",
    "        \"1. Prioritize the latest trends, key players, \"\n",
    "            \"and noteworthy news on {topic}.\\n\"\n",
    "        \"2. Identify the target audience, considering \"\n",
    "            \"their interests and pain points.\\n\"\n",
    "        \"3. Develop a detailed content outline including \"\n",
    "            \"an introduction, key points, and a call to action.\\n\"\n",
    "        \"4. Include SEO keywords and relevant data or sources.\"\n",
    "    ),\n",
    "    expected_output=\"A comprehensive content plan document \"\n",
    "        \"with an outline, audience analysis, \"\n",
    "        \"SEO keywords, and resources.\",\n",
    "    agent=planner,\n",
    ")"
   ]
  },
  {
   "cell_type": "markdown",
   "metadata": {},
   "source": [
    "### Task: Write"
   ]
  },
  {
   "cell_type": "code",
   "execution_count": 8,
   "metadata": {
    "height": 319
   },
   "outputs": [],
   "source": [
    "write = Task(\n",
    "    description=(\n",
    "        \"1. Use the content plan to craft a compelling \"\n",
    "            \"blog post on {topic}.\\n\"\n",
    "        \"2. Incorporate SEO keywords naturally.\\n\"\n",
    "\t\t\"3. Sections/Subtitles are properly named \"\n",
    "            \"in an engaging manner.\\n\"\n",
    "        \"4. Ensure the post is structured with an \"\n",
    "            \"engaging introduction, insightful body, \"\n",
    "            \"and a summarizing conclusion.\\n\"\n",
    "        \"5. Proofread for grammatical errors and \"\n",
    "            \"alignment with the brand's voice.\\n\"\n",
    "    ),\n",
    "    expected_output=\"A well-written blog post \"\n",
    "        \"in markdown format, ready for publication, \"\n",
    "        \"each section should have 2 or 3 paragraphs.\",\n",
    "    agent=writer,\n",
    ")"
   ]
  },
  {
   "cell_type": "markdown",
   "metadata": {},
   "source": [
    "### Task: Edit"
   ]
  },
  {
   "cell_type": "code",
   "execution_count": 9,
   "metadata": {
    "height": 166
   },
   "outputs": [],
   "source": [
    "edit = Task(\n",
    "    description=(\"Proofread the given blog post for \"\n",
    "                 \"grammatical errors and \"\n",
    "                 \"alignment with the brand's voice.\"),\n",
    "    expected_output=\"A well-written blog post in markdown format, \"\n",
    "                    \"ready for publication, \"\n",
    "                    \"each section should have 2 or 3 paragraphs.\",\n",
    "    agent=editor\n",
    ")"
   ]
  },
  {
   "cell_type": "markdown",
   "metadata": {},
   "source": [
    "## Creating the Crew\n",
    "\n",
    "- Create your crew of Agents\n",
    "- Pass the tasks to be performed by those agents.\n",
    "    - **Note**: *For this simple example*, the tasks will be performed sequentially (i.e they are dependent on each other), so the _order_ of the task in the list _matters_.\n",
    "- `verbose=2` allows you to see all the logs of the execution. "
   ]
  },
  {
   "cell_type": "code",
   "execution_count": 10,
   "metadata": {
    "height": 98
   },
   "outputs": [],
   "source": [
    "crew = Crew(\n",
    "    agents=[planner, writer, editor],\n",
    "    tasks=[plan, write, edit],\n",
    "    verbose=2\n",
    ")"
   ]
  },
  {
   "cell_type": "markdown",
   "metadata": {},
   "source": [
    "## Running the Crew"
   ]
  },
  {
   "cell_type": "markdown",
   "metadata": {},
   "source": [
    "**Note**: LLMs can provide different outputs for they same input, so what you get might be different than what you see in the video."
   ]
  },
  {
   "cell_type": "code",
   "execution_count": 11,
   "metadata": {
    "height": 30
   },
   "outputs": [
    {
     "name": "stdout",
     "output_type": "stream",
     "text": [
      "\u001b[1m\u001b[95m [DEBUG]: == Working Agent: Content Planner\u001b[00m\n",
      "\u001b[1m\u001b[95m [INFO]: == Starting Task: 1. Prioritize the latest trends, key players, and noteworthy news on Artificial Intelligence.\n",
      "2. Identify the target audience, considering their interests and pain points.\n",
      "3. Develop a detailed content outline including an introduction, key points, and a call to action.\n",
      "4. Include SEO keywords and relevant data or sources.\u001b[00m\n",
      "\n",
      "\n",
      "\u001b[1m> Entering new CrewAgentExecutor chain...\u001b[0m\n",
      "\u001b[32;1m\u001b[1;3mI now can give a great answer\n",
      "\n",
      "Final Answer:\n",
      "\n",
      "Content Plan on Artificial Intelligence\n",
      "\n",
      "1. Introduction\n",
      "- Definition of Artificial Intelligence\n",
      "- Importance and relevance in today's world\n",
      "- Brief overview of the latest trends and key players in the industry\n",
      "\n",
      "2. Key Points\n",
      "- Latest Trends:\n",
      "  - Machine Learning and Deep Learning advancements\n",
      "  - Natural Language Processing (NLP) developments\n",
      "  - AI ethics and bias concerns\n",
      "- Key Players:\n",
      "  - Google, Microsoft, IBM, and Amazon leading the AI market\n",
      "  - Startups making waves in specific AI niches\n",
      "  - Academic institutions contributing to AI research\n",
      "- Noteworthy News:\n",
      "  - Recent breakthroughs in AI technology\n",
      "  - Impact of AI on various industries\n",
      "  - Future predictions and possibilities in AI\n",
      "\n",
      "3. Target Audience Analysis\n",
      "- Professionals in technology and data science fields\n",
      "- Business owners looking to implement AI solutions\n",
      "- Students and researchers interested in artificial intelligence\n",
      "- General audience curious about AI advancements\n",
      "\n",
      "4. Call to Action\n",
      "- Encourage readers to stay updated on AI news and developments\n",
      "- Provide resources for further learning and exploration\n",
      "- Prompt audience to engage in discussions on AI topics\n",
      "\n",
      "5. SEO Keywords\n",
      "- Artificial Intelligence trends\n",
      "- Key players in AI industry\n",
      "- Latest news on Artificial Intelligence\n",
      "- Impact of AI on businesses\n",
      "\n",
      "6. Resources\n",
      "- Forbes AI articles\n",
      "- MIT Technology Review on AI advancements\n",
      "- AI conferences and events for networking and learning opportunities\n",
      "\n",
      "Overall, this content plan aims to provide a comprehensive overview of Artificial Intelligence, focusing on the latest trends, key players, and noteworthy news in the industry. By targeting a diverse audience and incorporating SEO keywords, the article will be informative and engaging for readers interested in AI technology.\u001b[0m\n",
      "\n",
      "\u001b[1m> Finished chain.\u001b[0m\n",
      "\u001b[1m\u001b[92m [DEBUG]: == [Content Planner] Task output: Content Plan on Artificial Intelligence\n",
      "\n",
      "1. Introduction\n",
      "- Definition of Artificial Intelligence\n",
      "- Importance and relevance in today's world\n",
      "- Brief overview of the latest trends and key players in the industry\n",
      "\n",
      "2. Key Points\n",
      "- Latest Trends:\n",
      "  - Machine Learning and Deep Learning advancements\n",
      "  - Natural Language Processing (NLP) developments\n",
      "  - AI ethics and bias concerns\n",
      "- Key Players:\n",
      "  - Google, Microsoft, IBM, and Amazon leading the AI market\n",
      "  - Startups making waves in specific AI niches\n",
      "  - Academic institutions contributing to AI research\n",
      "- Noteworthy News:\n",
      "  - Recent breakthroughs in AI technology\n",
      "  - Impact of AI on various industries\n",
      "  - Future predictions and possibilities in AI\n",
      "\n",
      "3. Target Audience Analysis\n",
      "- Professionals in technology and data science fields\n",
      "- Business owners looking to implement AI solutions\n",
      "- Students and researchers interested in artificial intelligence\n",
      "- General audience curious about AI advancements\n",
      "\n",
      "4. Call to Action\n",
      "- Encourage readers to stay updated on AI news and developments\n",
      "- Provide resources for further learning and exploration\n",
      "- Prompt audience to engage in discussions on AI topics\n",
      "\n",
      "5. SEO Keywords\n",
      "- Artificial Intelligence trends\n",
      "- Key players in AI industry\n",
      "- Latest news on Artificial Intelligence\n",
      "- Impact of AI on businesses\n",
      "\n",
      "6. Resources\n",
      "- Forbes AI articles\n",
      "- MIT Technology Review on AI advancements\n",
      "- AI conferences and events for networking and learning opportunities\n",
      "\n",
      "Overall, this content plan aims to provide a comprehensive overview of Artificial Intelligence, focusing on the latest trends, key players, and noteworthy news in the industry. By targeting a diverse audience and incorporating SEO keywords, the article will be informative and engaging for readers interested in AI technology.\n",
      "\n",
      "\u001b[00m\n",
      "\u001b[1m\u001b[95m [DEBUG]: == Working Agent: Content Writer\u001b[00m\n",
      "\u001b[1m\u001b[95m [INFO]: == Starting Task: 1. Use the content plan to craft a compelling blog post on Artificial Intelligence.\n",
      "2. Incorporate SEO keywords naturally.\n",
      "3. Sections/Subtitles are properly named in an engaging manner.\n",
      "4. Ensure the post is structured with an engaging introduction, insightful body, and a summarizing conclusion.\n",
      "5. Proofread for grammatical errors and alignment with the brand's voice.\n",
      "\u001b[00m\n",
      "\n",
      "\n",
      "\u001b[1m> Entering new CrewAgentExecutor chain...\u001b[0m\n",
      "\u001b[32;1m\u001b[1;3mArtificial Intelligence is a rapidly evolving field with significant implications for society. It has the potential to revolutionize industries, enhance productivity, and improve decision-making processes. As a Content Writer, I have the opportunity to delve into the complexities of AI and provide valuable insights to a wide range of readers.\n",
      "\n",
      "Final Answer:\n",
      "\n",
      "# The Rise of Artificial Intelligence: Trends, Players, and Impact\n",
      "\n",
      "## Introduction\n",
      "\n",
      "Artificial Intelligence, commonly referred to as AI, is the simulation of human intelligence processes by machines. It involves the development of algorithms that enable computers to perform tasks that typically require human intelligence, such as learning, reasoning, and problem-solving. In today's digital age, AI has become increasingly important due to its ability to analyze vast amounts of data efficiently and make predictions based on patterns and trends. The latest trends in AI include advancements in Machine Learning and Deep Learning, which have led to significant breakthroughs in areas such as image recognition, natural language processing, and autonomous driving.\n",
      "\n",
      "Key players in the AI industry, such as Google, Microsoft, IBM, and Amazon, are leading the way in developing cutting-edge AI technologies and applications. These tech giants are continually investing in research and development to stay ahead of the competition and drive innovation in the field. In addition to established companies, startups are also making waves in specific AI niches, focusing on niche areas such as healthcare, finance, and cybersecurity. Academic institutions are also playing a crucial role in advancing AI research, collaborating with industry partners to push the boundaries of what is possible with artificial intelligence.\n",
      "\n",
      "## Latest Trends and Noteworthy News\n",
      "\n",
      "Machine Learning and Deep Learning are at the forefront of AI advancements, with algorithms becoming increasingly sophisticated and capable of handling complex tasks. Natural Language Processing (NLP) is another area of rapid development, with AI systems now able to understand and generate human language with a high degree of accuracy. However, with these advancements come concerns about AI ethics and bias, as algorithms may inadvertently perpetuate existing biases or make decisions that have harmful consequences.\n",
      "\n",
      "Recent breakthroughs in AI technology have had a profound impact on various industries, from healthcare and finance to transportation and retail. AI-powered solutions are being used to streamline operations, improve customer experiences, and drive innovation in ways previously thought impossible. Looking ahead, the possibilities for AI are endless, with predictions ranging from fully autonomous vehicles to AI-powered virtual assistants that can perform tasks on behalf of their users.\n",
      "\n",
      "## Target Audience Analysis\n",
      "\n",
      "Professionals in the technology and data science fields will find value in staying up-to-date on the latest trends and developments in AI. Business owners looking to implement AI solutions in their organizations can benefit from understanding the key players in the industry and how AI can drive business growth. Students and researchers interested in artificial intelligence will find the article informative and engaging, providing insights into the future of AI technology. Finally, a general audience curious about AI advancements will gain a deeper understanding of how AI is shaping our world and what the future holds for this transformative technology.\n",
      "\n",
      "## Call to Action\n",
      "\n",
      "I encourage readers to stay informed about AI news and developments by following reputable sources such as Forbes AI articles and the MIT Technology Review on AI advancements. Additionally, I recommend attending AI conferences and events for networking and learning opportunities to stay ahead of the curve in this rapidly evolving field. Finally, I prompt the audience to engage in discussions on AI topics, sharing their insights and perspectives on the impact of AI on businesses and society as a whole.\n",
      "\n",
      "In conclusion, Artificial Intelligence is a powerful force that is reshaping the way we live, work, and interact with technology. By exploring the latest trends, key players, and noteworthy news in the AI industry, readers can gain a deeper understanding of the impact of AI on various industries and the possibilities for the future. Stay informed, stay engaged, and embrace the potential of AI to drive innovation and transform our world.\u001b[0m\n",
      "\n",
      "\u001b[1m> Finished chain.\u001b[0m\n",
      "\u001b[1m\u001b[92m [DEBUG]: == [Content Writer] Task output: # The Rise of Artificial Intelligence: Trends, Players, and Impact\n",
      "\n",
      "## Introduction\n",
      "\n",
      "Artificial Intelligence, commonly referred to as AI, is the simulation of human intelligence processes by machines. It involves the development of algorithms that enable computers to perform tasks that typically require human intelligence, such as learning, reasoning, and problem-solving. In today's digital age, AI has become increasingly important due to its ability to analyze vast amounts of data efficiently and make predictions based on patterns and trends. The latest trends in AI include advancements in Machine Learning and Deep Learning, which have led to significant breakthroughs in areas such as image recognition, natural language processing, and autonomous driving.\n",
      "\n",
      "Key players in the AI industry, such as Google, Microsoft, IBM, and Amazon, are leading the way in developing cutting-edge AI technologies and applications. These tech giants are continually investing in research and development to stay ahead of the competition and drive innovation in the field. In addition to established companies, startups are also making waves in specific AI niches, focusing on niche areas such as healthcare, finance, and cybersecurity. Academic institutions are also playing a crucial role in advancing AI research, collaborating with industry partners to push the boundaries of what is possible with artificial intelligence.\n",
      "\n",
      "## Latest Trends and Noteworthy News\n",
      "\n",
      "Machine Learning and Deep Learning are at the forefront of AI advancements, with algorithms becoming increasingly sophisticated and capable of handling complex tasks. Natural Language Processing (NLP) is another area of rapid development, with AI systems now able to understand and generate human language with a high degree of accuracy. However, with these advancements come concerns about AI ethics and bias, as algorithms may inadvertently perpetuate existing biases or make decisions that have harmful consequences.\n",
      "\n",
      "Recent breakthroughs in AI technology have had a profound impact on various industries, from healthcare and finance to transportation and retail. AI-powered solutions are being used to streamline operations, improve customer experiences, and drive innovation in ways previously thought impossible. Looking ahead, the possibilities for AI are endless, with predictions ranging from fully autonomous vehicles to AI-powered virtual assistants that can perform tasks on behalf of their users.\n",
      "\n",
      "## Target Audience Analysis\n",
      "\n",
      "Professionals in the technology and data science fields will find value in staying up-to-date on the latest trends and developments in AI. Business owners looking to implement AI solutions in their organizations can benefit from understanding the key players in the industry and how AI can drive business growth. Students and researchers interested in artificial intelligence will find the article informative and engaging, providing insights into the future of AI technology. Finally, a general audience curious about AI advancements will gain a deeper understanding of how AI is shaping our world and what the future holds for this transformative technology.\n",
      "\n",
      "## Call to Action\n",
      "\n",
      "I encourage readers to stay informed about AI news and developments by following reputable sources such as Forbes AI articles and the MIT Technology Review on AI advancements. Additionally, I recommend attending AI conferences and events for networking and learning opportunities to stay ahead of the curve in this rapidly evolving field. Finally, I prompt the audience to engage in discussions on AI topics, sharing their insights and perspectives on the impact of AI on businesses and society as a whole.\n",
      "\n",
      "In conclusion, Artificial Intelligence is a powerful force that is reshaping the way we live, work, and interact with technology. By exploring the latest trends, key players, and noteworthy news in the AI industry, readers can gain a deeper understanding of the impact of AI on various industries and the possibilities for the future. Stay informed, stay engaged, and embrace the potential of AI to drive innovation and transform our world.\n",
      "\n",
      "\u001b[00m\n",
      "\u001b[1m\u001b[95m [DEBUG]: == Working Agent: Editor\u001b[00m\n",
      "\u001b[1m\u001b[95m [INFO]: == Starting Task: Proofread the given blog post for grammatical errors and alignment with the brand's voice.\u001b[00m\n",
      "\n",
      "\n",
      "\u001b[1m> Entering new CrewAgentExecutor chain...\u001b[0m\n"
     ]
    },
    {
     "name": "stdout",
     "output_type": "stream",
     "text": [
      "\u001b[32;1m\u001b[1;3mI now can edit this blog post to ensure it aligns with the organization's writing style and meets journalistic best practices.\n",
      "\n",
      "Final Answer:\n",
      "# The Rise of Artificial Intelligence: Trends, Players, and Impact\n",
      "\n",
      "## Introduction\n",
      "\n",
      "Artificial Intelligence, commonly referred to as AI, is the simulation of human intelligence processes by machines. It involves the development of algorithms that enable computers to perform tasks that typically require human intelligence, such as learning, reasoning, and problem-solving. In today's digital age, AI has become increasingly important due to its ability to analyze vast amounts of data efficiently and make predictions based on patterns and trends. The latest trends in AI include advancements in Machine Learning and Deep Learning, which have led to significant breakthroughs in areas such as image recognition, natural language processing, and autonomous driving.\n",
      "\n",
      "Key players in the AI industry, such as Google, Microsoft, IBM, and Amazon, are leading the way in developing cutting-edge AI technologies and applications. These tech giants are continually investing in research and development to stay ahead of the competition and drive innovation in the field. In addition to established companies, startups are also making waves in specific AI niches, focusing on niche areas such as healthcare, finance, and cybersecurity. Academic institutions are also playing a crucial role in advancing AI research, collaborating with industry partners to push the boundaries of what is possible with artificial intelligence.\n",
      "\n",
      "## Latest Trends and Noteworthy News\n",
      "\n",
      "Machine Learning and Deep Learning are at the forefront of AI advancements, with algorithms becoming increasingly sophisticated and capable of handling complex tasks. Natural Language Processing (NLP) is another area of rapid development, with AI systems now able to understand and generate human language with a high degree of accuracy. However, with these advancements come concerns about AI ethics and bias, as algorithms may inadvertently perpetuate existing biases or make decisions that have harmful consequences.\n",
      "\n",
      "Recent breakthroughs in AI technology have had a profound impact on various industries, from healthcare and finance to transportation and retail. AI-powered solutions are being used to streamline operations, improve customer experiences, and drive innovation in ways previously thought impossible. Looking ahead, the possibilities for AI are endless, with predictions ranging from fully autonomous vehicles to AI-powered virtual assistants that can perform tasks on behalf of their users.\n",
      "\n",
      "## Target Audience Analysis\n",
      "\n",
      "Professionals in the technology and data science fields will find value in staying up-to-date on the latest trends and developments in AI. Business owners looking to implement AI solutions in their organizations can benefit from understanding the key players in the industry and how AI can drive business growth. Students and researchers interested in artificial intelligence will find the article informative and engaging, providing insights into the future of AI technology. Finally, a general audience curious about AI advancements will gain a deeper understanding of how AI is shaping our world and what the future holds for this transformative technology.\n",
      "\n",
      "## Call to Action\n",
      "\n",
      "I encourage readers to stay informed about AI news and developments by following reputable sources such as Forbes AI articles and the MIT Technology Review on AI advancements. Additionally, I recommend attending AI conferences and events for networking and learning opportunities to stay ahead of the curve in this rapidly evolving field. Finally, I prompt the audience to engage in discussions on AI topics, sharing their insights and perspectives on the impact of AI on businesses and society as a whole.\n",
      "\n",
      "In conclusion, Artificial Intelligence is a powerful force that is reshaping the way we live, work, and interact with technology. By exploring the latest trends, key players, and noteworthy news in the AI industry, readers can gain a deeper understanding of the impact of AI on various industries and the possibilities for the future. Stay informed, stay engaged, and embrace the potential of AI to drive innovation and transform our world.\u001b[0m\n",
      "\n",
      "\u001b[1m> Finished chain.\u001b[0m\n",
      "\u001b[1m\u001b[92m [DEBUG]: == [Editor] Task output: # The Rise of Artificial Intelligence: Trends, Players, and Impact\n",
      "\n",
      "## Introduction\n",
      "\n",
      "Artificial Intelligence, commonly referred to as AI, is the simulation of human intelligence processes by machines. It involves the development of algorithms that enable computers to perform tasks that typically require human intelligence, such as learning, reasoning, and problem-solving. In today's digital age, AI has become increasingly important due to its ability to analyze vast amounts of data efficiently and make predictions based on patterns and trends. The latest trends in AI include advancements in Machine Learning and Deep Learning, which have led to significant breakthroughs in areas such as image recognition, natural language processing, and autonomous driving.\n",
      "\n",
      "Key players in the AI industry, such as Google, Microsoft, IBM, and Amazon, are leading the way in developing cutting-edge AI technologies and applications. These tech giants are continually investing in research and development to stay ahead of the competition and drive innovation in the field. In addition to established companies, startups are also making waves in specific AI niches, focusing on niche areas such as healthcare, finance, and cybersecurity. Academic institutions are also playing a crucial role in advancing AI research, collaborating with industry partners to push the boundaries of what is possible with artificial intelligence.\n",
      "\n",
      "## Latest Trends and Noteworthy News\n",
      "\n",
      "Machine Learning and Deep Learning are at the forefront of AI advancements, with algorithms becoming increasingly sophisticated and capable of handling complex tasks. Natural Language Processing (NLP) is another area of rapid development, with AI systems now able to understand and generate human language with a high degree of accuracy. However, with these advancements come concerns about AI ethics and bias, as algorithms may inadvertently perpetuate existing biases or make decisions that have harmful consequences.\n",
      "\n",
      "Recent breakthroughs in AI technology have had a profound impact on various industries, from healthcare and finance to transportation and retail. AI-powered solutions are being used to streamline operations, improve customer experiences, and drive innovation in ways previously thought impossible. Looking ahead, the possibilities for AI are endless, with predictions ranging from fully autonomous vehicles to AI-powered virtual assistants that can perform tasks on behalf of their users.\n",
      "\n",
      "## Target Audience Analysis\n",
      "\n",
      "Professionals in the technology and data science fields will find value in staying up-to-date on the latest trends and developments in AI. Business owners looking to implement AI solutions in their organizations can benefit from understanding the key players in the industry and how AI can drive business growth. Students and researchers interested in artificial intelligence will find the article informative and engaging, providing insights into the future of AI technology. Finally, a general audience curious about AI advancements will gain a deeper understanding of how AI is shaping our world and what the future holds for this transformative technology.\n",
      "\n",
      "## Call to Action\n",
      "\n",
      "I encourage readers to stay informed about AI news and developments by following reputable sources such as Forbes AI articles and the MIT Technology Review on AI advancements. Additionally, I recommend attending AI conferences and events for networking and learning opportunities to stay ahead of the curve in this rapidly evolving field. Finally, I prompt the audience to engage in discussions on AI topics, sharing their insights and perspectives on the impact of AI on businesses and society as a whole.\n",
      "\n",
      "In conclusion, Artificial Intelligence is a powerful force that is reshaping the way we live, work, and interact with technology. By exploring the latest trends, key players, and noteworthy news in the AI industry, readers can gain a deeper understanding of the impact of AI on various industries and the possibilities for the future. Stay informed, stay engaged, and embrace the potential of AI to drive innovation and transform our world.\n",
      "\n",
      "\u001b[00m\n"
     ]
    }
   ],
   "source": [
    "result = crew.kickoff(inputs={\"topic\": \"Artificial Intelligence\"})"
   ]
  },
  {
   "cell_type": "markdown",
   "metadata": {},
   "source": [
    "- Display the results of your execution as markdown in the notebook."
   ]
  },
  {
   "cell_type": "code",
   "execution_count": 12,
   "metadata": {
    "height": 47
   },
   "outputs": [
    {
     "data": {
      "text/markdown": [
       "# The Rise of Artificial Intelligence: Trends, Players, and Impact\n",
       "\n",
       "## Introduction\n",
       "\n",
       "Artificial Intelligence, commonly referred to as AI, is the simulation of human intelligence processes by machines. It involves the development of algorithms that enable computers to perform tasks that typically require human intelligence, such as learning, reasoning, and problem-solving. In today's digital age, AI has become increasingly important due to its ability to analyze vast amounts of data efficiently and make predictions based on patterns and trends. The latest trends in AI include advancements in Machine Learning and Deep Learning, which have led to significant breakthroughs in areas such as image recognition, natural language processing, and autonomous driving.\n",
       "\n",
       "Key players in the AI industry, such as Google, Microsoft, IBM, and Amazon, are leading the way in developing cutting-edge AI technologies and applications. These tech giants are continually investing in research and development to stay ahead of the competition and drive innovation in the field. In addition to established companies, startups are also making waves in specific AI niches, focusing on niche areas such as healthcare, finance, and cybersecurity. Academic institutions are also playing a crucial role in advancing AI research, collaborating with industry partners to push the boundaries of what is possible with artificial intelligence.\n",
       "\n",
       "## Latest Trends and Noteworthy News\n",
       "\n",
       "Machine Learning and Deep Learning are at the forefront of AI advancements, with algorithms becoming increasingly sophisticated and capable of handling complex tasks. Natural Language Processing (NLP) is another area of rapid development, with AI systems now able to understand and generate human language with a high degree of accuracy. However, with these advancements come concerns about AI ethics and bias, as algorithms may inadvertently perpetuate existing biases or make decisions that have harmful consequences.\n",
       "\n",
       "Recent breakthroughs in AI technology have had a profound impact on various industries, from healthcare and finance to transportation and retail. AI-powered solutions are being used to streamline operations, improve customer experiences, and drive innovation in ways previously thought impossible. Looking ahead, the possibilities for AI are endless, with predictions ranging from fully autonomous vehicles to AI-powered virtual assistants that can perform tasks on behalf of their users.\n",
       "\n",
       "## Target Audience Analysis\n",
       "\n",
       "Professionals in the technology and data science fields will find value in staying up-to-date on the latest trends and developments in AI. Business owners looking to implement AI solutions in their organizations can benefit from understanding the key players in the industry and how AI can drive business growth. Students and researchers interested in artificial intelligence will find the article informative and engaging, providing insights into the future of AI technology. Finally, a general audience curious about AI advancements will gain a deeper understanding of how AI is shaping our world and what the future holds for this transformative technology.\n",
       "\n",
       "## Call to Action\n",
       "\n",
       "I encourage readers to stay informed about AI news and developments by following reputable sources such as Forbes AI articles and the MIT Technology Review on AI advancements. Additionally, I recommend attending AI conferences and events for networking and learning opportunities to stay ahead of the curve in this rapidly evolving field. Finally, I prompt the audience to engage in discussions on AI topics, sharing their insights and perspectives on the impact of AI on businesses and society as a whole.\n",
       "\n",
       "In conclusion, Artificial Intelligence is a powerful force that is reshaping the way we live, work, and interact with technology. By exploring the latest trends, key players, and noteworthy news in the AI industry, readers can gain a deeper understanding of the impact of AI on various industries and the possibilities for the future. Stay informed, stay engaged, and embrace the potential of AI to drive innovation and transform our world."
      ],
      "text/plain": [
       "<IPython.core.display.Markdown object>"
      ]
     },
     "execution_count": 12,
     "metadata": {},
     "output_type": "execute_result"
    }
   ],
   "source": [
    "from IPython.display import Markdown\n",
    "Markdown(result)"
   ]
  },
  {
   "cell_type": "markdown",
   "metadata": {},
   "source": [
    "## Try it Yourself\n",
    "\n",
    "- Pass in a topic of your choice and see what the agents come up with!"
   ]
  },
  {
   "cell_type": "code",
   "execution_count": null,
   "metadata": {
    "height": 47
   },
   "outputs": [],
   "source": [
    "topic = \"YOUR TOPIC HERE\"\n",
    "result = crew.kickoff(inputs={\"topic\": topic})"
   ]
  },
  {
   "cell_type": "code",
   "execution_count": null,
   "metadata": {
    "height": 30
   },
   "outputs": [],
   "source": [
    "Markdown(result)"
   ]
  },
  {
   "cell_type": "markdown",
   "metadata": {},
   "source": [
    "<a name='1'></a>\n",
    " ## Other Popular Models as LLM for your Agents"
   ]
  },
  {
   "cell_type": "markdown",
   "metadata": {},
   "source": [
    "#### Hugging Face (HuggingFaceHub endpoint)\n",
    "\n",
    "```Python\n",
    "from langchain_community.llms import HuggingFaceHub\n",
    "\n",
    "llm = HuggingFaceHub(\n",
    "    repo_id=\"HuggingFaceH4/zephyr-7b-beta\",\n",
    "    huggingfacehub_api_token=\"<HF_TOKEN_HERE>\",\n",
    "    task=\"text-generation\",\n",
    ")\n",
    "\n",
    "### you will pass \"llm\" to your agent function\n",
    "```"
   ]
  },
  {
   "cell_type": "markdown",
   "metadata": {},
   "source": [
    "#### Mistral API\n",
    "\n",
    "```Python\n",
    "OPENAI_API_KEY=your-mistral-api-key\n",
    "OPENAI_API_BASE=https://api.mistral.ai/v1\n",
    "OPENAI_MODEL_NAME=\"mistral-small\"\n",
    "```"
   ]
  },
  {
   "cell_type": "markdown",
   "metadata": {},
   "source": [
    "#### Cohere\n",
    "\n",
    "```Python\n",
    "from langchain_community.chat_models import ChatCohere\n",
    "# Initialize language model\n",
    "os.environ[\"COHERE_API_KEY\"] = \"your-cohere-api-key\"\n",
    "llm = ChatCohere()\n",
    "\n",
    "### you will pass \"llm\" to your agent function\n",
    "```"
   ]
  },
  {
   "cell_type": "markdown",
   "metadata": {},
   "source": [
    "### For using Llama locally with Ollama and more, checkout the crewAI documentation on [Connecting to any LLM](https://docs.crewai.com/how-to/LLM-Connections/)."
   ]
  },
  {
   "cell_type": "code",
   "execution_count": 14,
   "metadata": {
    "height": 47
   },
   "outputs": [
    {
     "name": "stdout",
     "output_type": "stream",
     "text": [
      "\u001b[1m\u001b[95m [DEBUG]: == Working Agent: Content Planner\u001b[00m\n",
      "\u001b[1m\u001b[95m [INFO]: == Starting Task: 1. Prioritize the latest trends, key players, and noteworthy news on PV subcontractors opportunities and risks in Chile.\n",
      "2. Identify the target audience, considering their interests and pain points.\n",
      "3. Develop a detailed content outline including an introduction, key points, and a call to action.\n",
      "4. Include SEO keywords and relevant data or sources.\u001b[00m\n",
      "\n",
      "\n",
      "\u001b[1m> Entering new CrewAgentExecutor chain...\u001b[0m\n",
      "\u001b[32;1m\u001b[1;3mI now can give a great answer\n",
      "\n",
      "Final Answer:\n",
      "\n",
      "Content Plan: \n",
      "Title: Exploring PV Subcontractors Opportunities and Risks in Chile\n",
      "\n",
      "Outline:\n",
      "I. Introduction\n",
      "- Brief overview of the solar energy industry in Chile\n",
      "- Importance of PV subcontractors in the renewable energy sector\n",
      "- Thesis statement highlighting the opportunities and risks for PV subcontractors in Chile\n",
      "\n",
      "II. Latest Trends\n",
      "- Growth of the solar energy market in Chile\n",
      "- Increasing demand for PV installations\n",
      "- Emergence of new technologies and innovations in the sector\n",
      "\n",
      "III. Key Players\n",
      "- Leading PV subcontractors in Chile\n",
      "- Collaboration between international and local companies\n",
      "- Government initiatives supporting the growth of the solar industry\n",
      "\n",
      "IV. Noteworthy News\n",
      "- Recent projects and investments in the solar energy sector\n",
      "- Regulatory updates impacting PV subcontractors in Chile\n",
      "- Challenges faced by subcontractors and potential solutions\n",
      "\n",
      "V. Target Audience Analysis\n",
      "- Professionals in the renewable energy industry\n",
      "- Investors looking to enter the Chilean solar market\n",
      "- Policy makers and regulators involved in the energy sector\n",
      "\n",
      "VI. Audience Interests and Pain Points\n",
      "- Interest in the potential for growth and investment opportunities\n",
      "- Concerns about regulatory uncertainty and market competition\n",
      "- Desire for reliable information and guidance on navigating the PV subcontractor landscape in Chile\n",
      "\n",
      "VII. SEO Keywords:\n",
      "- PV subcontractors Chile\n",
      "- Solar energy opportunities\n",
      "- Renewable energy risks\n",
      "- Chilean solar market trends\n",
      "- PV installation companies\n",
      "\n",
      "VIII. Call to Action: \n",
      "- Encourage readers to explore partnership opportunities with PV subcontractors in Chile\n",
      "- Provide resources for further information on solar energy regulations and market trends\n",
      "- Invite feedback and questions from the audience to foster engagement\n",
      "\n",
      "Resources:\n",
      "1. Ministry of Energy, Chile\n",
      "2. Solar Energy Industries Association (SEIA)\n",
      "3. International Renewable Energy Agency (IRENA)\n",
      "4. Bloomberg New Energy Finance\n",
      "5. Local solar energy associations and industry reports\n",
      "\n",
      "By following this comprehensive content plan, the article on PV subcontractors opportunities and risks in Chile will provide valuable insights and guidance for the target audience, helping them make informed decisions in the evolving renewable energy landscape.\u001b[0m\n",
      "\n",
      "\u001b[1m> Finished chain.\u001b[0m\n",
      "\u001b[1m\u001b[92m [DEBUG]: == [Content Planner] Task output: Content Plan: \n",
      "Title: Exploring PV Subcontractors Opportunities and Risks in Chile\n",
      "\n",
      "Outline:\n",
      "I. Introduction\n",
      "- Brief overview of the solar energy industry in Chile\n",
      "- Importance of PV subcontractors in the renewable energy sector\n",
      "- Thesis statement highlighting the opportunities and risks for PV subcontractors in Chile\n",
      "\n",
      "II. Latest Trends\n",
      "- Growth of the solar energy market in Chile\n",
      "- Increasing demand for PV installations\n",
      "- Emergence of new technologies and innovations in the sector\n",
      "\n",
      "III. Key Players\n",
      "- Leading PV subcontractors in Chile\n",
      "- Collaboration between international and local companies\n",
      "- Government initiatives supporting the growth of the solar industry\n",
      "\n",
      "IV. Noteworthy News\n",
      "- Recent projects and investments in the solar energy sector\n",
      "- Regulatory updates impacting PV subcontractors in Chile\n",
      "- Challenges faced by subcontractors and potential solutions\n",
      "\n",
      "V. Target Audience Analysis\n",
      "- Professionals in the renewable energy industry\n",
      "- Investors looking to enter the Chilean solar market\n",
      "- Policy makers and regulators involved in the energy sector\n",
      "\n",
      "VI. Audience Interests and Pain Points\n",
      "- Interest in the potential for growth and investment opportunities\n",
      "- Concerns about regulatory uncertainty and market competition\n",
      "- Desire for reliable information and guidance on navigating the PV subcontractor landscape in Chile\n",
      "\n",
      "VII. SEO Keywords:\n",
      "- PV subcontractors Chile\n",
      "- Solar energy opportunities\n",
      "- Renewable energy risks\n",
      "- Chilean solar market trends\n",
      "- PV installation companies\n",
      "\n",
      "VIII. Call to Action: \n",
      "- Encourage readers to explore partnership opportunities with PV subcontractors in Chile\n",
      "- Provide resources for further information on solar energy regulations and market trends\n",
      "- Invite feedback and questions from the audience to foster engagement\n",
      "\n",
      "Resources:\n",
      "1. Ministry of Energy, Chile\n",
      "2. Solar Energy Industries Association (SEIA)\n",
      "3. International Renewable Energy Agency (IRENA)\n",
      "4. Bloomberg New Energy Finance\n",
      "5. Local solar energy associations and industry reports\n",
      "\n",
      "By following this comprehensive content plan, the article on PV subcontractors opportunities and risks in Chile will provide valuable insights and guidance for the target audience, helping them make informed decisions in the evolving renewable energy landscape.\n",
      "\n",
      "\u001b[00m\n",
      "\u001b[1m\u001b[95m [DEBUG]: == Working Agent: Content Writer\u001b[00m\n",
      "\u001b[1m\u001b[95m [INFO]: == Starting Task: 1. Use the content plan to craft a compelling blog post on PV subcontractors opportunities and risks in Chile.\n",
      "2. Incorporate SEO keywords naturally.\n",
      "3. Sections/Subtitles are properly named in an engaging manner.\n",
      "4. Ensure the post is structured with an engaging introduction, insightful body, and a summarizing conclusion.\n",
      "5. Proofread for grammatical errors and alignment with the brand's voice.\n",
      "\u001b[00m\n",
      "\n",
      "\n",
      "\u001b[1m> Entering new CrewAgentExecutor chain...\u001b[0m\n",
      "\u001b[32;1m\u001b[1;3mI now can give a great answer\n",
      "\n",
      "Final Answer:\n",
      "\n",
      "# Exploring PV Subcontractors Opportunities and Risks in Chile\n",
      "\n",
      "## Introduction\n",
      "The solar energy industry in Chile has been experiencing significant growth, with an increasing demand for PV installations. PV subcontractors play a crucial role in the renewable energy sector, providing essential services for the development and maintenance of solar projects. In this article, we will delve into the opportunities and risks that PV subcontractors face in Chile, highlighting the latest trends, key players, noteworthy news, and the target audience's interests and pain points.\n",
      "\n",
      "## Latest Trends\n",
      "Chile has witnessed a remarkable growth in the solar energy market, driven by favorable government policies and increasing environmental awareness. The demand for PV installations has been on the rise, leading to a surge in opportunities for subcontractors to collaborate with developers and investors. Moreover, the emergence of new technologies and innovations in the sector has opened up exciting possibilities for PV subcontractors to enhance their services and expand their market presence.\n",
      "\n",
      "## Key Players\n",
      "Leading PV subcontractors in Chile have been actively involved in major solar projects, showcasing their expertise and capabilities in the renewable energy sector. Collaboration between international and local companies has been instrumental in driving innovation and efficiency in solar installations. Government initiatives supporting the growth of the solar industry have created a conducive environment for PV subcontractors to thrive and contribute to the country's sustainable energy goals.\n",
      "\n",
      "## Noteworthy News\n",
      "Recent projects and investments in the solar energy sector have highlighted the potential for further expansion and development in Chile. Regulatory updates impacting PV subcontractors have brought about challenges in compliance and operations, requiring careful navigation and adaptation. Despite the challenges faced by subcontractors, potential solutions such as improved coordination and communication within the industry offer opportunities for growth and resilience.\n",
      "\n",
      "## Target Audience Analysis\n",
      "Professionals in the renewable energy industry, investors looking to enter the Chilean solar market, and policy makers and regulators involved in the energy sector form the target audience for this article. Their interests lie in the potential for growth and investment opportunities in the solar energy sector, while their pain points revolve around regulatory uncertainty and market competition. Providing reliable information and guidance on navigating the PV subcontractor landscape in Chile is essential for addressing their needs and concerns.\n",
      "\n",
      "## SEO Keywords\n",
      "PV subcontractors Chile, Solar energy opportunities, Renewable energy risks, Chilean solar market trends, PV installation companies\n",
      "\n",
      "## Call to Action\n",
      "Encourage readers to explore partnership opportunities with PV subcontractors in Chile, provide resources for further information on solar energy regulations and market trends, and invite feedback and questions from the audience to foster engagement.\n",
      "\n",
      "In conclusion, the opportunities and risks for PV subcontractors in Chile present a dynamic landscape of growth and challenges, requiring informed decision-making and strategic partnerships. By staying informed and proactive in addressing industry trends and developments, PV subcontractors can navigate the evolving renewable energy sector in Chile with confidence and success.\n",
      "\n",
      "This blog post aims to provide valuable insights and guidance for professionals in the renewable energy industry, investors, and policy makers, enabling them to make informed decisions and contribute to the sustainable development of the solar energy sector in Chile.\u001b[0m\n",
      "\n",
      "\u001b[1m> Finished chain.\u001b[0m\n",
      "\u001b[1m\u001b[92m [DEBUG]: == [Content Writer] Task output: # Exploring PV Subcontractors Opportunities and Risks in Chile\n",
      "\n",
      "## Introduction\n",
      "The solar energy industry in Chile has been experiencing significant growth, with an increasing demand for PV installations. PV subcontractors play a crucial role in the renewable energy sector, providing essential services for the development and maintenance of solar projects. In this article, we will delve into the opportunities and risks that PV subcontractors face in Chile, highlighting the latest trends, key players, noteworthy news, and the target audience's interests and pain points.\n",
      "\n",
      "## Latest Trends\n",
      "Chile has witnessed a remarkable growth in the solar energy market, driven by favorable government policies and increasing environmental awareness. The demand for PV installations has been on the rise, leading to a surge in opportunities for subcontractors to collaborate with developers and investors. Moreover, the emergence of new technologies and innovations in the sector has opened up exciting possibilities for PV subcontractors to enhance their services and expand their market presence.\n",
      "\n",
      "## Key Players\n",
      "Leading PV subcontractors in Chile have been actively involved in major solar projects, showcasing their expertise and capabilities in the renewable energy sector. Collaboration between international and local companies has been instrumental in driving innovation and efficiency in solar installations. Government initiatives supporting the growth of the solar industry have created a conducive environment for PV subcontractors to thrive and contribute to the country's sustainable energy goals.\n",
      "\n",
      "## Noteworthy News\n",
      "Recent projects and investments in the solar energy sector have highlighted the potential for further expansion and development in Chile. Regulatory updates impacting PV subcontractors have brought about challenges in compliance and operations, requiring careful navigation and adaptation. Despite the challenges faced by subcontractors, potential solutions such as improved coordination and communication within the industry offer opportunities for growth and resilience.\n",
      "\n",
      "## Target Audience Analysis\n",
      "Professionals in the renewable energy industry, investors looking to enter the Chilean solar market, and policy makers and regulators involved in the energy sector form the target audience for this article. Their interests lie in the potential for growth and investment opportunities in the solar energy sector, while their pain points revolve around regulatory uncertainty and market competition. Providing reliable information and guidance on navigating the PV subcontractor landscape in Chile is essential for addressing their needs and concerns.\n",
      "\n",
      "## SEO Keywords\n",
      "PV subcontractors Chile, Solar energy opportunities, Renewable energy risks, Chilean solar market trends, PV installation companies\n",
      "\n",
      "## Call to Action\n",
      "Encourage readers to explore partnership opportunities with PV subcontractors in Chile, provide resources for further information on solar energy regulations and market trends, and invite feedback and questions from the audience to foster engagement.\n",
      "\n",
      "In conclusion, the opportunities and risks for PV subcontractors in Chile present a dynamic landscape of growth and challenges, requiring informed decision-making and strategic partnerships. By staying informed and proactive in addressing industry trends and developments, PV subcontractors can navigate the evolving renewable energy sector in Chile with confidence and success.\n",
      "\n",
      "This blog post aims to provide valuable insights and guidance for professionals in the renewable energy industry, investors, and policy makers, enabling them to make informed decisions and contribute to the sustainable development of the solar energy sector in Chile.\n",
      "\n",
      "\u001b[00m\n",
      "\u001b[1m\u001b[95m [DEBUG]: == Working Agent: Editor\u001b[00m\n",
      "\u001b[1m\u001b[95m [INFO]: == Starting Task: Proofread the given blog post for grammatical errors and alignment with the brand's voice.\u001b[00m\n",
      "\n",
      "\n",
      "\u001b[1m> Entering new CrewAgentExecutor chain...\u001b[0m\n"
     ]
    },
    {
     "name": "stdout",
     "output_type": "stream",
     "text": [
      "\u001b[32;1m\u001b[1;3mI now can give a great answer\n",
      "\n",
      "Final Answer:\n",
      "# Exploring PV Subcontractors Opportunities and Risks in Chile\n",
      "\n",
      "The solar energy industry in Chile has been experiencing significant growth, with an increasing demand for PV installations. PV subcontractors play a crucial role in the renewable energy sector, providing essential services for the development and maintenance of solar projects. In this article, we will delve into the opportunities and risks that PV subcontractors face in Chile, highlighting the latest trends, key players, noteworthy news, and the target audience's interests and pain points.\n",
      "\n",
      "Chile has witnessed a remarkable growth in the solar energy market, driven by favorable government policies and increasing environmental awareness. The demand for PV installations has been on the rise, leading to a surge in opportunities for subcontractors to collaborate with developers and investors. Moreover, the emergence of new technologies and innovations in the sector has opened up exciting possibilities for PV subcontractors to enhance their services and expand their market presence.\n",
      "\n",
      "Leading PV subcontractors in Chile have been actively involved in major solar projects, showcasing their expertise and capabilities in the renewable energy sector. Collaboration between international and local companies has been instrumental in driving innovation and efficiency in solar installations. Government initiatives supporting the growth of the solar industry have created a conducive environment for PV subcontractors to thrive and contribute to the country's sustainable energy goals.\n",
      "\n",
      "Recent projects and investments in the solar energy sector have highlighted the potential for further expansion and development in Chile. Regulatory updates impacting PV subcontractors have brought about challenges in compliance and operations, requiring careful navigation and adaptation. Despite the challenges faced by subcontractors, potential solutions such as improved coordination and communication within the industry offer opportunities for growth and resilience.\n",
      "\n",
      "Professionals in the renewable energy industry, investors looking to enter the Chilean solar market, and policy makers and regulators involved in the energy sector form the target audience for this article. Their interests lie in the potential for growth and investment opportunities in the solar energy sector, while their pain points revolve around regulatory uncertainty and market competition. Providing reliable information and guidance on navigating the PV subcontractor landscape in Chile is essential for addressing their needs and concerns.\n",
      "\n",
      "Encourage readers to explore partnership opportunities with PV subcontractors in Chile, provide resources for further information on solar energy regulations and market trends, and invite feedback and questions from the audience to foster engagement.\n",
      "\n",
      "In conclusion, the opportunities and risks for PV subcontractors in Chile present a dynamic landscape of growth and challenges, requiring informed decision-making and strategic partnerships. By staying informed and proactive in addressing industry trends and developments, PV subcontractors can navigate the evolving renewable energy sector in Chile with confidence and success.\n",
      "\n",
      "This blog post aims to provide valuable insights and guidance for professionals in the renewable energy industry, investors, and policy makers, enabling them to make informed decisions and contribute to the sustainable development of the solar energy sector in Chile.\u001b[0m\n",
      "\n",
      "\u001b[1m> Finished chain.\u001b[0m\n",
      "\u001b[1m\u001b[92m [DEBUG]: == [Editor] Task output: # Exploring PV Subcontractors Opportunities and Risks in Chile\n",
      "\n",
      "The solar energy industry in Chile has been experiencing significant growth, with an increasing demand for PV installations. PV subcontractors play a crucial role in the renewable energy sector, providing essential services for the development and maintenance of solar projects. In this article, we will delve into the opportunities and risks that PV subcontractors face in Chile, highlighting the latest trends, key players, noteworthy news, and the target audience's interests and pain points.\n",
      "\n",
      "Chile has witnessed a remarkable growth in the solar energy market, driven by favorable government policies and increasing environmental awareness. The demand for PV installations has been on the rise, leading to a surge in opportunities for subcontractors to collaborate with developers and investors. Moreover, the emergence of new technologies and innovations in the sector has opened up exciting possibilities for PV subcontractors to enhance their services and expand their market presence.\n",
      "\n",
      "Leading PV subcontractors in Chile have been actively involved in major solar projects, showcasing their expertise and capabilities in the renewable energy sector. Collaboration between international and local companies has been instrumental in driving innovation and efficiency in solar installations. Government initiatives supporting the growth of the solar industry have created a conducive environment for PV subcontractors to thrive and contribute to the country's sustainable energy goals.\n",
      "\n",
      "Recent projects and investments in the solar energy sector have highlighted the potential for further expansion and development in Chile. Regulatory updates impacting PV subcontractors have brought about challenges in compliance and operations, requiring careful navigation and adaptation. Despite the challenges faced by subcontractors, potential solutions such as improved coordination and communication within the industry offer opportunities for growth and resilience.\n",
      "\n",
      "Professionals in the renewable energy industry, investors looking to enter the Chilean solar market, and policy makers and regulators involved in the energy sector form the target audience for this article. Their interests lie in the potential for growth and investment opportunities in the solar energy sector, while their pain points revolve around regulatory uncertainty and market competition. Providing reliable information and guidance on navigating the PV subcontractor landscape in Chile is essential for addressing their needs and concerns.\n",
      "\n",
      "Encourage readers to explore partnership opportunities with PV subcontractors in Chile, provide resources for further information on solar energy regulations and market trends, and invite feedback and questions from the audience to foster engagement.\n",
      "\n",
      "In conclusion, the opportunities and risks for PV subcontractors in Chile present a dynamic landscape of growth and challenges, requiring informed decision-making and strategic partnerships. By staying informed and proactive in addressing industry trends and developments, PV subcontractors can navigate the evolving renewable energy sector in Chile with confidence and success.\n",
      "\n",
      "This blog post aims to provide valuable insights and guidance for professionals in the renewable energy industry, investors, and policy makers, enabling them to make informed decisions and contribute to the sustainable development of the solar energy sector in Chile.\n",
      "\n",
      "\u001b[00m\n"
     ]
    }
   ],
   "source": [
    "topic = \"PV subcontractors opportunities and risks in Chile\"\n",
    "result = crew.kickoff(inputs={\"topic\": topic})"
   ]
  },
  {
   "cell_type": "code",
   "execution_count": 15,
   "metadata": {
    "height": 30
   },
   "outputs": [
    {
     "data": {
      "text/markdown": [
       "# Exploring PV Subcontractors Opportunities and Risks in Chile\n",
       "\n",
       "The solar energy industry in Chile has been experiencing significant growth, with an increasing demand for PV installations. PV subcontractors play a crucial role in the renewable energy sector, providing essential services for the development and maintenance of solar projects. In this article, we will delve into the opportunities and risks that PV subcontractors face in Chile, highlighting the latest trends, key players, noteworthy news, and the target audience's interests and pain points.\n",
       "\n",
       "Chile has witnessed a remarkable growth in the solar energy market, driven by favorable government policies and increasing environmental awareness. The demand for PV installations has been on the rise, leading to a surge in opportunities for subcontractors to collaborate with developers and investors. Moreover, the emergence of new technologies and innovations in the sector has opened up exciting possibilities for PV subcontractors to enhance their services and expand their market presence.\n",
       "\n",
       "Leading PV subcontractors in Chile have been actively involved in major solar projects, showcasing their expertise and capabilities in the renewable energy sector. Collaboration between international and local companies has been instrumental in driving innovation and efficiency in solar installations. Government initiatives supporting the growth of the solar industry have created a conducive environment for PV subcontractors to thrive and contribute to the country's sustainable energy goals.\n",
       "\n",
       "Recent projects and investments in the solar energy sector have highlighted the potential for further expansion and development in Chile. Regulatory updates impacting PV subcontractors have brought about challenges in compliance and operations, requiring careful navigation and adaptation. Despite the challenges faced by subcontractors, potential solutions such as improved coordination and communication within the industry offer opportunities for growth and resilience.\n",
       "\n",
       "Professionals in the renewable energy industry, investors looking to enter the Chilean solar market, and policy makers and regulators involved in the energy sector form the target audience for this article. Their interests lie in the potential for growth and investment opportunities in the solar energy sector, while their pain points revolve around regulatory uncertainty and market competition. Providing reliable information and guidance on navigating the PV subcontractor landscape in Chile is essential for addressing their needs and concerns.\n",
       "\n",
       "Encourage readers to explore partnership opportunities with PV subcontractors in Chile, provide resources for further information on solar energy regulations and market trends, and invite feedback and questions from the audience to foster engagement.\n",
       "\n",
       "In conclusion, the opportunities and risks for PV subcontractors in Chile present a dynamic landscape of growth and challenges, requiring informed decision-making and strategic partnerships. By staying informed and proactive in addressing industry trends and developments, PV subcontractors can navigate the evolving renewable energy sector in Chile with confidence and success.\n",
       "\n",
       "This blog post aims to provide valuable insights and guidance for professionals in the renewable energy industry, investors, and policy makers, enabling them to make informed decisions and contribute to the sustainable development of the solar energy sector in Chile."
      ],
      "text/plain": [
       "<IPython.core.display.Markdown object>"
      ]
     },
     "execution_count": 15,
     "metadata": {},
     "output_type": "execute_result"
    }
   ],
   "source": [
    "Markdown(result)"
   ]
  },
  {
   "cell_type": "code",
   "execution_count": null,
   "metadata": {
    "height": 30
   },
   "outputs": [
    {
     "ename": "",
     "evalue": "",
     "output_type": "error",
     "traceback": [
      "\u001b[1;31mLa ejecución de celdas con 'Python 3.12.4' requiere el paquete ipykernel.\n",
      "\u001b[1;31mEjecute el siguiente comando para instalar 'ipykernel' en el entorno de Python. comando \n",
      "\u001b[1;31m: '/opt/homebrew/bin/python3 -m pip install ipykernel -U --user --force-reinstall'"
     ]
    }
   ],
   "source": [
    "topic = \"GenAI for SCADA signal analysis and WhatsApp notifications with CrewAI.\"\n",
    "result = crew.kickoff(inputs={\"topic\": topic})"
   ]
  },
  {
   "cell_type": "code",
   "execution_count": 9,
   "metadata": {},
   "outputs": [
    {
     "ename": "TypeError",
     "evalue": "unsupported operand type(s) for |: 'type' and 'NoneType'",
     "output_type": "error",
     "traceback": [
      "\u001b[0;31m---------------------------------------------------------------------------\u001b[0m",
      "\u001b[0;31mTypeError\u001b[0m                                 Traceback (most recent call last)",
      "Cell \u001b[0;32mIn[9], line 1\u001b[0m\n\u001b[0;32m----> 1\u001b[0m \u001b[38;5;28;01mfrom\u001b[39;00m \u001b[38;5;21;01mcrewai\u001b[39;00m \u001b[38;5;28;01mimport\u001b[39;00m Agent, Task, Crew\n\u001b[1;32m      3\u001b[0m \u001b[38;5;66;03m# Define your agents\u001b[39;00m\n\u001b[1;32m      4\u001b[0m researcher \u001b[38;5;241m=\u001b[39m Agent(\n\u001b[1;32m      5\u001b[0m     role\u001b[38;5;241m=\u001b[39m\u001b[38;5;124m\"\u001b[39m\u001b[38;5;124mResearcher\u001b[39m\u001b[38;5;124m\"\u001b[39m,\n\u001b[1;32m      6\u001b[0m     goal\u001b[38;5;241m=\u001b[39m\u001b[38;5;124m\"\u001b[39m\u001b[38;5;124mConduct thorough research and analysis on AI and AI agents\u001b[39m\u001b[38;5;124m\"\u001b[39m,\n\u001b[1;32m      7\u001b[0m     backstory\u001b[38;5;241m=\u001b[39m\u001b[38;5;124m\"\u001b[39m\u001b[38;5;124mYou\u001b[39m\u001b[38;5;124m'\u001b[39m\u001b[38;5;124mre expert researcher, specialized in technology, software engineering, AI, and startups. You work as a freelancer and are currently researching for a new client.\u001b[39m\u001b[38;5;124m\"\u001b[39m,\n\u001b[1;32m      8\u001b[0m     allow_delegation\u001b[38;5;241m=\u001b[39m\u001b[38;5;28;01mFalse\u001b[39;00m,\n\u001b[1;32m      9\u001b[0m )\n",
      "File \u001b[0;32m~/Library/Python/3.9/lib/python/site-packages/crewai/__init__.py:1\u001b[0m\n\u001b[0;32m----> 1\u001b[0m \u001b[38;5;28;01mfrom\u001b[39;00m \u001b[38;5;21;01mcrewai\u001b[39;00m\u001b[38;5;21;01m.\u001b[39;00m\u001b[38;5;21;01magent\u001b[39;00m \u001b[38;5;28;01mimport\u001b[39;00m Agent\n\u001b[1;32m      2\u001b[0m \u001b[38;5;28;01mfrom\u001b[39;00m \u001b[38;5;21;01mcrewai\u001b[39;00m\u001b[38;5;21;01m.\u001b[39;00m\u001b[38;5;21;01mcrew\u001b[39;00m \u001b[38;5;28;01mimport\u001b[39;00m Crew\n\u001b[1;32m      3\u001b[0m \u001b[38;5;28;01mfrom\u001b[39;00m \u001b[38;5;21;01mcrewai\u001b[39;00m\u001b[38;5;21;01m.\u001b[39;00m\u001b[38;5;21;01mprocess\u001b[39;00m \u001b[38;5;28;01mimport\u001b[39;00m Process\n",
      "File \u001b[0;32m~/Library/Python/3.9/lib/python/site-packages/crewai/agent.py:22\u001b[0m\n\u001b[1;32m     10\u001b[0m \u001b[38;5;28;01mfrom\u001b[39;00m \u001b[38;5;21;01mpydantic\u001b[39;00m \u001b[38;5;28;01mimport\u001b[39;00m (\n\u001b[1;32m     11\u001b[0m     UUID4,\n\u001b[1;32m     12\u001b[0m     BaseModel,\n\u001b[0;32m   (...)\u001b[0m\n\u001b[1;32m     18\u001b[0m     model_validator,\n\u001b[1;32m     19\u001b[0m )\n\u001b[1;32m     20\u001b[0m \u001b[38;5;28;01mfrom\u001b[39;00m \u001b[38;5;21;01mpydantic_core\u001b[39;00m \u001b[38;5;28;01mimport\u001b[39;00m PydanticCustomError\n\u001b[0;32m---> 22\u001b[0m \u001b[38;5;28;01mfrom\u001b[39;00m \u001b[38;5;21;01mcrewai\u001b[39;00m\u001b[38;5;21;01m.\u001b[39;00m\u001b[38;5;21;01magents\u001b[39;00m \u001b[38;5;28;01mimport\u001b[39;00m (\n\u001b[1;32m     23\u001b[0m     CacheHandler,\n\u001b[1;32m     24\u001b[0m     CrewAgentExecutor,\n\u001b[1;32m     25\u001b[0m     CrewAgentOutputParser,\n\u001b[1;32m     26\u001b[0m     ToolsHandler,\n\u001b[1;32m     27\u001b[0m )\n\u001b[1;32m     28\u001b[0m \u001b[38;5;28;01mfrom\u001b[39;00m \u001b[38;5;21;01mcrewai\u001b[39;00m\u001b[38;5;21;01m.\u001b[39;00m\u001b[38;5;21;01mutilities\u001b[39;00m \u001b[38;5;28;01mimport\u001b[39;00m I18N, Logger, Prompts, RPMController\n\u001b[1;32m     31\u001b[0m \u001b[38;5;28;01mclass\u001b[39;00m \u001b[38;5;21;01mAgent\u001b[39;00m(BaseModel):\n",
      "File \u001b[0;32m~/Library/Python/3.9/lib/python/site-packages/crewai/agents/__init__.py:2\u001b[0m\n\u001b[1;32m      1\u001b[0m \u001b[38;5;28;01mfrom\u001b[39;00m \u001b[38;5;21;01m.\u001b[39;00m\u001b[38;5;21;01mcache\u001b[39;00m\u001b[38;5;21;01m.\u001b[39;00m\u001b[38;5;21;01mcache_handler\u001b[39;00m \u001b[38;5;28;01mimport\u001b[39;00m CacheHandler\n\u001b[0;32m----> 2\u001b[0m \u001b[38;5;28;01mfrom\u001b[39;00m \u001b[38;5;21;01m.\u001b[39;00m\u001b[38;5;21;01mexecutor\u001b[39;00m \u001b[38;5;28;01mimport\u001b[39;00m CrewAgentExecutor\n\u001b[1;32m      3\u001b[0m \u001b[38;5;28;01mfrom\u001b[39;00m \u001b[38;5;21;01m.\u001b[39;00m\u001b[38;5;21;01moutput_parser\u001b[39;00m \u001b[38;5;28;01mimport\u001b[39;00m CrewAgentOutputParser\n\u001b[1;32m      4\u001b[0m \u001b[38;5;28;01mfrom\u001b[39;00m \u001b[38;5;21;01m.\u001b[39;00m\u001b[38;5;21;01mtools_handler\u001b[39;00m \u001b[38;5;28;01mimport\u001b[39;00m ToolsHandler\n",
      "File \u001b[0;32m~/Library/Python/3.9/lib/python/site-packages/crewai/agents/executor.py:16\u001b[0m\n\u001b[1;32m     14\u001b[0m \u001b[38;5;28;01mfrom\u001b[39;00m \u001b[38;5;21;01mcrewai\u001b[39;00m\u001b[38;5;21;01m.\u001b[39;00m\u001b[38;5;21;01magents\u001b[39;00m\u001b[38;5;21;01m.\u001b[39;00m\u001b[38;5;21;01mcache\u001b[39;00m\u001b[38;5;21;01m.\u001b[39;00m\u001b[38;5;21;01mcache_hit\u001b[39;00m \u001b[38;5;28;01mimport\u001b[39;00m CacheHit\n\u001b[1;32m     15\u001b[0m \u001b[38;5;28;01mfrom\u001b[39;00m \u001b[38;5;21;01mcrewai\u001b[39;00m\u001b[38;5;21;01m.\u001b[39;00m\u001b[38;5;21;01mtools\u001b[39;00m\u001b[38;5;21;01m.\u001b[39;00m\u001b[38;5;21;01mcache_tools\u001b[39;00m \u001b[38;5;28;01mimport\u001b[39;00m CacheTools\n\u001b[0;32m---> 16\u001b[0m \u001b[38;5;28;01mfrom\u001b[39;00m \u001b[38;5;21;01mcrewai\u001b[39;00m\u001b[38;5;21;01m.\u001b[39;00m\u001b[38;5;21;01mutilities\u001b[39;00m \u001b[38;5;28;01mimport\u001b[39;00m I18N\n\u001b[1;32m     19\u001b[0m \u001b[38;5;28;01mclass\u001b[39;00m \u001b[38;5;21;01mCrewAgentExecutor\u001b[39;00m(AgentExecutor):\n\u001b[1;32m     20\u001b[0m     i18n: I18N \u001b[38;5;241m=\u001b[39m I18N()\n",
      "File \u001b[0;32m~/Library/Python/3.9/lib/python/site-packages/crewai/utilities/__init__.py:4\u001b[0m\n\u001b[1;32m      2\u001b[0m \u001b[38;5;28;01mfrom\u001b[39;00m \u001b[38;5;21;01m.\u001b[39;00m\u001b[38;5;21;01mlogger\u001b[39;00m \u001b[38;5;28;01mimport\u001b[39;00m Logger\n\u001b[1;32m      3\u001b[0m \u001b[38;5;28;01mfrom\u001b[39;00m \u001b[38;5;21;01m.\u001b[39;00m\u001b[38;5;21;01mprompts\u001b[39;00m \u001b[38;5;28;01mimport\u001b[39;00m Prompts\n\u001b[0;32m----> 4\u001b[0m \u001b[38;5;28;01mfrom\u001b[39;00m \u001b[38;5;21;01m.\u001b[39;00m\u001b[38;5;21;01mrpm_controller\u001b[39;00m \u001b[38;5;28;01mimport\u001b[39;00m RPMController\n",
      "File \u001b[0;32m~/Library/Python/3.9/lib/python/site-packages/crewai/utilities/rpm_controller.py:10\u001b[0m\n\u001b[1;32m      5\u001b[0m \u001b[38;5;28;01mfrom\u001b[39;00m \u001b[38;5;21;01mpydantic\u001b[39;00m \u001b[38;5;28;01mimport\u001b[39;00m BaseModel, ConfigDict, Field, PrivateAttr, model_validator\n\u001b[1;32m      7\u001b[0m \u001b[38;5;28;01mfrom\u001b[39;00m \u001b[38;5;21;01mcrewai\u001b[39;00m\u001b[38;5;21;01m.\u001b[39;00m\u001b[38;5;21;01mutilities\u001b[39;00m\u001b[38;5;21;01m.\u001b[39;00m\u001b[38;5;21;01mlogger\u001b[39;00m \u001b[38;5;28;01mimport\u001b[39;00m Logger\n\u001b[0;32m---> 10\u001b[0m \u001b[38;5;28;01mclass\u001b[39;00m \u001b[38;5;21;01mRPMController\u001b[39;00m(BaseModel):\n\u001b[1;32m     11\u001b[0m     model_config \u001b[38;5;241m=\u001b[39m ConfigDict(arbitrary_types_allowed\u001b[38;5;241m=\u001b[39m\u001b[38;5;28;01mTrue\u001b[39;00m)\n\u001b[1;32m     12\u001b[0m     max_rpm: Union[\u001b[38;5;28mint\u001b[39m, \u001b[38;5;28;01mNone\u001b[39;00m] \u001b[38;5;241m=\u001b[39m Field(default\u001b[38;5;241m=\u001b[39m\u001b[38;5;28;01mNone\u001b[39;00m)\n",
      "File \u001b[0;32m~/Library/Python/3.9/lib/python/site-packages/crewai/utilities/rpm_controller.py:15\u001b[0m, in \u001b[0;36mRPMController\u001b[0;34m()\u001b[0m\n\u001b[1;32m     13\u001b[0m logger: Logger \u001b[38;5;241m=\u001b[39m Field(default\u001b[38;5;241m=\u001b[39m\u001b[38;5;28;01mNone\u001b[39;00m)\n\u001b[1;32m     14\u001b[0m _current_rpm: \u001b[38;5;28mint\u001b[39m \u001b[38;5;241m=\u001b[39m PrivateAttr(default\u001b[38;5;241m=\u001b[39m\u001b[38;5;241m0\u001b[39m)\n\u001b[0;32m---> 15\u001b[0m _timer: \u001b[43mthreading\u001b[49m\u001b[38;5;241;43m.\u001b[39;49m\u001b[43mTimer\u001b[49m\u001b[43m \u001b[49m\u001b[38;5;241;43m|\u001b[39;49m\u001b[43m \u001b[49m\u001b[38;5;28;43;01mNone\u001b[39;49;00m \u001b[38;5;241m=\u001b[39m PrivateAttr(default\u001b[38;5;241m=\u001b[39m\u001b[38;5;28;01mNone\u001b[39;00m)\n\u001b[1;32m     16\u001b[0m _lock: threading\u001b[38;5;241m.\u001b[39mLock \u001b[38;5;241m=\u001b[39m PrivateAttr(default\u001b[38;5;241m=\u001b[39m\u001b[38;5;28;01mNone\u001b[39;00m)\n\u001b[1;32m     18\u001b[0m \u001b[38;5;129m@model_validator\u001b[39m(mode\u001b[38;5;241m=\u001b[39m\u001b[38;5;124m\"\u001b[39m\u001b[38;5;124mafter\u001b[39m\u001b[38;5;124m\"\u001b[39m)\n\u001b[1;32m     19\u001b[0m \u001b[38;5;28;01mdef\u001b[39;00m \u001b[38;5;21mreset_counter\u001b[39m(\u001b[38;5;28mself\u001b[39m):\n",
      "\u001b[0;31mTypeError\u001b[0m: unsupported operand type(s) for |: 'type' and 'NoneType'"
     ]
    }
   ],
   "source": [
    "from crewai import Agent, Task, Crew\n",
    "\n",
    "# Define your agents\n",
    "researcher = Agent(\n",
    "    role=\"Researcher\",\n",
    "    goal=\"Conduct thorough research and analysis on AI and AI agents\",\n",
    "    backstory=\"You're expert researcher, specialized in technology, software engineering, AI, and startups. You work as a freelancer and are currently researching for a new client.\",\n",
    "    allow_delegation=False,\n",
    ")\n",
    "\n",
    "writer = Agent(\n",
    "    role=\"Senior Writer\",\n",
    "    goal=\"Create compelling content about AI and AI agents\",\n",
    "    backstory=\"You're a senior writer, specialized in technology, software engineering, AI, and startups. You work as a freelancer and are currently writing content for a new client.\",\n",
    "    allow_delegation=False,\n",
    ")\n",
    "\n",
    "# Define your tasks\n",
    "task1 = Task(\n",
    " description=\"Conduct a comprehensive analysis of the latest advancements in AI in 2024. Identify key trends, breakthrough technologies, and potential industry impacts. Compile your findings in a detailed report.\",\n",
    "    expected_output=\"A comprehensive full report on the latest AI advancements in 2024, leave nothing out\",\n",
    "    agent=researcher,\n",
    "    human_input=True\n",
    ")\n",
    "\n",
    "task2 = Task(\n",
    "    description=\"Using the insights from the researcher's report, develop an engaging blog post that highlights the most significant AI advancements. Your post should be informative yet accessible, catering to a-savvy audience.\",\n",
    "    expected_output=\"A compelling 3 paragraphs blog post formatted as markdown about the latest AI advancements in 2024\",\n",
    "    agent=writer,\n",
    "    human_input=True\n",
    ")\n",
    "\n",
    "# Instantiate your crew with a sequential process\n",
    "crew = Crew(\n",
    "    agents=[researcher, writer],\n",
    "    tasks=[task1, task2],\n",
    "    verbose=True,\n",
    "    memory=True,\n",
    "    planning=True  # Enable planning feature for the crew\n",
    ")\n",
    "\n",
    "# Get your crew to work!\n",
    "result = crew.kickoff()\n",
    "\n",
    "# Print the result\n",
    "print(\"print:\",result)"
   ]
  },
  {
   "cell_type": "code",
   "execution_count": null,
   "metadata": {},
   "outputs": [],
   "source": []
  }
 ],
 "metadata": {
  "colab": {
   "gpuType": "T4",
   "provenance": []
  },
  "kernelspec": {
   "display_name": "Python 3",
   "language": "python",
   "name": "python3"
  },
  "language_info": {
   "codemirror_mode": {
    "name": "ipython",
    "version": 3
   },
   "file_extension": ".py",
   "mimetype": "text/x-python",
   "name": "python",
   "nbconvert_exporter": "python",
   "pygments_lexer": "ipython3",
   "version": "3.9.6"
  }
 },
 "nbformat": 4,
 "nbformat_minor": 4
}
